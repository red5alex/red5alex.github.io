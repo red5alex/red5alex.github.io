{
 "cells": [
  {
   "cell_type": "code",
   "execution_count": 1,
   "metadata": {
    "ExecuteTime": {
     "end_time": "2020-03-22T17:28:13.664188Z",
     "start_time": "2020-03-22T17:28:07.158269Z"
    }
   },
   "outputs": [],
   "source": [
    "import folium\n",
    "import pandas as pd\n",
    "#import pdvega\n",
    "\n",
    "import geopandas as gpd\n",
    "from folium.plugins import MeasureControl, Fullscreen # for ruler in maps\n",
    "from folium.features import DivIcon\n",
    "import numpy as np\n",
    "import geopy\n",
    "\n",
    "%matplotlib inline\n",
    "locator = geopy.Nominatim(user_agent=\"myGeocoder\")"
   ]
  },
  {
   "cell_type": "markdown",
   "metadata": {},
   "source": [
    "# Load Data"
   ]
  },
  {
   "cell_type": "code",
   "execution_count": 2,
   "metadata": {
    "ExecuteTime": {
     "end_time": "2020-03-22T17:28:13.744116Z",
     "start_time": "2020-03-22T17:28:13.666120Z"
    }
   },
   "outputs": [
    {
     "data": {
      "text/html": [
       "<div>\n",
       "<style scoped>\n",
       "    .dataframe tbody tr th:only-of-type {\n",
       "        vertical-align: middle;\n",
       "    }\n",
       "\n",
       "    .dataframe tbody tr th {\n",
       "        vertical-align: top;\n",
       "    }\n",
       "\n",
       "    .dataframe thead th {\n",
       "        text-align: right;\n",
       "    }\n",
       "</style>\n",
       "<table border=\"1\" class=\"dataframe\">\n",
       "  <thead>\n",
       "    <tr style=\"text-align: right;\">\n",
       "      <th></th>\n",
       "      <th>Name</th>\n",
       "      <th>Layer</th>\n",
       "      <th>Description</th>\n",
       "      <th>Address</th>\n",
       "      <th>Phone</th>\n",
       "      <th>email</th>\n",
       "      <th>LON</th>\n",
       "      <th>LAT</th>\n",
       "      <th>Available</th>\n",
       "      <th>Total_Produce</th>\n",
       "      <th>Status</th>\n",
       "      <th>Icon</th>\n",
       "      <th>Color</th>\n",
       "    </tr>\n",
       "  </thead>\n",
       "  <tbody>\n",
       "    <tr>\n",
       "      <th>0</th>\n",
       "      <td>Max Mustermann</td>\n",
       "      <td>Masken Verfügbar</td>\n",
       "      <td>Max Mustermann</td>\n",
       "      <td>Im Leingarten 6, 32549 Bad Oeynhausen</td>\n",
       "      <td>05731 - 123456789</td>\n",
       "      <td>ich@Beispiel.de</td>\n",
       "      <td>NaN</td>\n",
       "      <td>NaN</td>\n",
       "      <td>2</td>\n",
       "      <td>10</td>\n",
       "      <td>working</td>\n",
       "      <td>fa-user</td>\n",
       "      <td>green</td>\n",
       "    </tr>\n",
       "  </tbody>\n",
       "</table>\n",
       "</div>"
      ],
      "text/plain": [
       "             Name             Layer     Description  \\\n",
       "0  Max Mustermann  Masken Verfügbar  Max Mustermann   \n",
       "\n",
       "                                 Address              Phone            email  \\\n",
       "0  Im Leingarten 6, 32549 Bad Oeynhausen  05731 - 123456789  ich@Beispiel.de   \n",
       "\n",
       "   LON  LAT  Available  Total_Produce   Status     Icon  Color  \n",
       "0  NaN  NaN          2             10  working  fa-user  green  "
      ]
     },
     "execution_count": 2,
     "metadata": {},
     "output_type": "execute_result"
    }
   ],
   "source": [
    "df_producers = pd.read_excel(\"./data/producers.xlsx\")\n",
    "df_producers"
   ]
  },
  {
   "cell_type": "code",
   "execution_count": 3,
   "metadata": {
    "ExecuteTime": {
     "end_time": "2020-03-22T17:28:13.779123Z",
     "start_time": "2020-03-22T17:28:13.747120Z"
    }
   },
   "outputs": [
    {
     "data": {
      "text/html": [
       "<div>\n",
       "<style scoped>\n",
       "    .dataframe tbody tr th:only-of-type {\n",
       "        vertical-align: middle;\n",
       "    }\n",
       "\n",
       "    .dataframe tbody tr th {\n",
       "        vertical-align: top;\n",
       "    }\n",
       "\n",
       "    .dataframe thead th {\n",
       "        text-align: right;\n",
       "    }\n",
       "</style>\n",
       "<table border=\"1\" class=\"dataframe\">\n",
       "  <thead>\n",
       "    <tr style=\"text-align: right;\">\n",
       "      <th></th>\n",
       "      <th>Name</th>\n",
       "      <th>Layer</th>\n",
       "      <th>Description</th>\n",
       "      <th>Address</th>\n",
       "      <th>Phone</th>\n",
       "      <th>email</th>\n",
       "      <th>LON</th>\n",
       "      <th>LAT</th>\n",
       "      <th>Status</th>\n",
       "      <th>Demand</th>\n",
       "      <th>URL</th>\n",
       "      <th>Icon</th>\n",
       "      <th>Color</th>\n",
       "    </tr>\n",
       "  </thead>\n",
       "  <tbody>\n",
       "    <tr>\n",
       "      <th>0</th>\n",
       "      <td>Beispielklinik</td>\n",
       "      <td>Bedarf</td>\n",
       "      <td>Krankenhaus</td>\n",
       "      <td>Georgstraße 11, 32545 Bad Oeynhausen</td>\n",
       "      <td>05731 - xxxx</td>\n",
       "      <td>info@hdzxxx.de</td>\n",
       "      <td>NaN</td>\n",
       "      <td>NaN</td>\n",
       "      <td>Bedarf an Masken</td>\n",
       "      <td>100</td>\n",
       "      <td>www.beispielkrankenhaus.de</td>\n",
       "      <td>fa-ambulance</td>\n",
       "      <td>red</td>\n",
       "    </tr>\n",
       "    <tr>\n",
       "      <th>1</th>\n",
       "      <td>Beispielpraxis</td>\n",
       "      <td>Bedarf</td>\n",
       "      <td>Arztpraxis</td>\n",
       "      <td>Eidinghausener Str. 123, 32549 Bad Oeynhausen</td>\n",
       "      <td>05731 - xxxx</td>\n",
       "      <td>info@beispiel.de</td>\n",
       "      <td>NaN</td>\n",
       "      <td>NaN</td>\n",
       "      <td>Bedarf an Masken</td>\n",
       "      <td>10</td>\n",
       "      <td>www.beispielpraxis.de</td>\n",
       "      <td>fa-stethoscope</td>\n",
       "      <td>red</td>\n",
       "    </tr>\n",
       "  </tbody>\n",
       "</table>\n",
       "</div>"
      ],
      "text/plain": [
       "             Name   Layer  Description  \\\n",
       "0  Beispielklinik  Bedarf  Krankenhaus   \n",
       "1  Beispielpraxis  Bedarf   Arztpraxis   \n",
       "\n",
       "                                         Address         Phone  \\\n",
       "0           Georgstraße 11, 32545 Bad Oeynhausen  05731 - xxxx   \n",
       "1  Eidinghausener Str. 123, 32549 Bad Oeynhausen  05731 - xxxx   \n",
       "\n",
       "              email  LON  LAT            Status  Demand  \\\n",
       "0    info@hdzxxx.de  NaN  NaN  Bedarf an Masken     100   \n",
       "1  info@beispiel.de  NaN  NaN  Bedarf an Masken      10   \n",
       "\n",
       "                          URL            Icon Color  \n",
       "0  www.beispielkrankenhaus.de    fa-ambulance   red  \n",
       "1       www.beispielpraxis.de  fa-stethoscope   red  "
      ]
     },
     "execution_count": 3,
     "metadata": {},
     "output_type": "execute_result"
    }
   ],
   "source": [
    "df_consumers = pd.read_excel(\"./data/consumers.xlsx\")\n",
    "df_consumers"
   ]
  },
  {
   "cell_type": "code",
   "execution_count": 4,
   "metadata": {
    "ExecuteTime": {
     "end_time": "2020-03-22T17:28:13.818117Z",
     "start_time": "2020-03-22T17:28:13.783119Z"
    }
   },
   "outputs": [
    {
     "data": {
      "text/html": [
       "<div>\n",
       "<style scoped>\n",
       "    .dataframe tbody tr th:only-of-type {\n",
       "        vertical-align: middle;\n",
       "    }\n",
       "\n",
       "    .dataframe tbody tr th {\n",
       "        vertical-align: top;\n",
       "    }\n",
       "\n",
       "    .dataframe thead th {\n",
       "        text-align: right;\n",
       "    }\n",
       "</style>\n",
       "<table border=\"1\" class=\"dataframe\">\n",
       "  <thead>\n",
       "    <tr style=\"text-align: right;\">\n",
       "      <th></th>\n",
       "      <th>Name</th>\n",
       "      <th>Layer</th>\n",
       "      <th>Description</th>\n",
       "      <th>Address</th>\n",
       "      <th>Phone</th>\n",
       "      <th>email</th>\n",
       "      <th>LON</th>\n",
       "      <th>LAT</th>\n",
       "      <th>Status</th>\n",
       "      <th>URL</th>\n",
       "      <th>Icon</th>\n",
       "      <th>Color</th>\n",
       "    </tr>\n",
       "  </thead>\n",
       "  <tbody>\n",
       "    <tr>\n",
       "      <th>0</th>\n",
       "      <td>Max Mustermann</td>\n",
       "      <td>Material</td>\n",
       "      <td>Material Verfügbar</td>\n",
       "      <td>Kanalstraße 1, 32545 Bad Oeynhausen</td>\n",
       "      <td>05731-xxxx</td>\n",
       "      <td>max@mustermann.de</td>\n",
       "      <td>NaN</td>\n",
       "      <td>NaN</td>\n",
       "      <td>Habe Baumwolle</td>\n",
       "      <td>NaN</td>\n",
       "      <td>fa-briefcase</td>\n",
       "      <td>blue</td>\n",
       "    </tr>\n",
       "  </tbody>\n",
       "</table>\n",
       "</div>"
      ],
      "text/plain": [
       "             Name     Layer         Description  \\\n",
       "0  Max Mustermann  Material  Material Verfügbar   \n",
       "\n",
       "                               Address       Phone              email  LON  \\\n",
       "0  Kanalstraße 1, 32545 Bad Oeynhausen  05731-xxxx  max@mustermann.de  NaN   \n",
       "\n",
       "   LAT          Status  URL          Icon Color  \n",
       "0  NaN  Habe Baumwolle  NaN  fa-briefcase  blue  "
      ]
     },
     "execution_count": 4,
     "metadata": {},
     "output_type": "execute_result"
    }
   ],
   "source": [
    "df_suppliers = pd.read_excel(\"./data/suppliers.xlsx\")\n",
    "df_suppliers"
   ]
  },
  {
   "cell_type": "markdown",
   "metadata": {
    "ExecuteTime": {
     "end_time": "2020-03-22T17:14:10.250169Z",
     "start_time": "2020-03-22T17:14:10.247168Z"
    }
   },
   "source": [
    "# Create Basemap\n"
   ]
  },
  {
   "cell_type": "code",
   "execution_count": 5,
   "metadata": {
    "ExecuteTime": {
     "end_time": "2020-03-22T17:28:13.893118Z",
     "start_time": "2020-03-22T17:28:13.820117Z"
    }
   },
   "outputs": [
    {
     "data": {
      "text/plain": [
       "<folium.raster_layers.TileLayer at 0x27897a9a7f0>"
      ]
     },
     "execution_count": 5,
     "metadata": {},
     "output_type": "execute_result"
    }
   ],
   "source": [
    "start_coord = [52.2035, 8.80445]\n",
    "\n",
    "m = folium.Map(\n",
    "    location=start_coord,\n",
    "    zoom_start=13,\n",
    "    tiles='openstreetmap',\n",
    "    control_scale=True,\n",
    ")\n",
    "\n",
    "# Tile layers\n",
    "folium.TileLayer('Stamen Terrain', attr='terrain').add_to(m)\n",
    "folium.TileLayer('openstreetmap', attr='osm').add_to(m)\n",
    "folium.TileLayer('cartodbpositron', attr='positron').add_to(m)"
   ]
  },
  {
   "cell_type": "code",
   "execution_count": 6,
   "metadata": {
    "ExecuteTime": {
     "end_time": "2020-03-22T17:28:13.910131Z",
     "start_time": "2020-03-22T17:28:13.896122Z"
    }
   },
   "outputs": [
    {
     "name": "stdout",
     "output_type": "stream",
     "text": [
      "Bedarf\n",
      "Masken Verfügbar\n",
      "Material\n"
     ]
    }
   ],
   "source": [
    "layers = {}\n",
    "\n",
    "for l in df_consumers.Layer.unique():\n",
    "    layers[l] = folium.FeatureGroup(name=l)\n",
    "    layers[l].add_to(m)\n",
    "    print(l)\n",
    "    \n",
    "for l in df_producers.Layer.unique():\n",
    "    layers[l] = folium.FeatureGroup(name=l)\n",
    "    layers[l].add_to(m)\n",
    "    print(l)\n",
    "    \n",
    "for l in df_suppliers.Layer.unique():\n",
    "    layers[l] = folium.FeatureGroup(name=l)\n",
    "    layers[l].add_to(m)\n",
    "    print(l)\n",
    "\n"
   ]
  },
  {
   "cell_type": "code",
   "execution_count": 7,
   "metadata": {
    "ExecuteTime": {
     "end_time": "2020-03-22T17:28:13.928119Z",
     "start_time": "2020-03-22T17:28:13.913120Z"
    }
   },
   "outputs": [
    {
     "data": {
      "text/plain": [
       "<folium.plugins.mouse_position.MousePosition at 0x27892cae7f0>"
      ]
     },
     "execution_count": 7,
     "metadata": {},
     "output_type": "execute_result"
    }
   ],
   "source": [
    "# Layer and Measurement Controls\n",
    "folium.LayerControl(collapsed=False).add_to(m)  # now you can turn off and on layers\n",
    "# folium.plugins.MeasureControl().add_to(m)\n",
    "folium.plugins.Fullscreen().add_to(m)\n",
    "folium.plugins.LocateControl().add_to(m)  # geolocation button (GPS) ... probably only available in higher versions\n",
    "folium.plugins.MiniMap(tile_layer='Stamen Terrain', zoom_level_offset=-5).add_to(m)\n",
    "folium.plugins.MousePosition(position=\"bottomleft\").add_to(m)\n"
   ]
  },
  {
   "cell_type": "markdown",
   "metadata": {},
   "source": [
    "# Consumer Layer"
   ]
  },
  {
   "cell_type": "code",
   "execution_count": 8,
   "metadata": {
    "ExecuteTime": {
     "end_time": "2020-03-22T17:28:13.946125Z",
     "start_time": "2020-03-22T17:28:13.933119Z"
    }
   },
   "outputs": [],
   "source": [
    "popup_template_consumers = \"\"\"\n",
    "\n",
    "<table width=250>\n",
    "    <tr>\n",
    "        <td>\n",
    "        <!-- left side of popup-->\n",
    "            <h4>{0}</h4>\n",
    "            <p>{1}<br>\n",
    "            <a href=\"{2}\">{2}</a></p>\n",
    "            <hr>\n",
    "            <p>Bedarf: {3} Masken</p>\n",
    "\n",
    "        </td>  \n",
    "        <td>\n",
    "        <!-- right side of popup (chart preview)-->\n",
    "        </td>\n",
    "    <tr>\n",
    "</table>\n",
    "\"\"\""
   ]
  },
  {
   "cell_type": "code",
   "execution_count": 9,
   "metadata": {
    "ExecuteTime": {
     "end_time": "2020-03-22T17:28:15.476560Z",
     "start_time": "2020-03-22T17:28:13.952127Z"
    }
   },
   "outputs": [
    {
     "name": "stdout",
     "output_type": "stream",
     "text": [
      "Georgstraße 11, 32545 Bad Oeynhausen (Beispielklinik) --> 8.794459652.1924794\n",
      "Eidinghausener Str. 123, 32549 Bad Oeynhausen (Beispielpraxis) --> 8.798878252.2225905\n"
     ]
    }
   ],
   "source": [
    "# create markers\n",
    "for i, poi in df_consumers.iterrows():\n",
    "\n",
    "    #vegalite_plot = df_head.reset_index().vgplot.scatter(x=\"Time\", y=obs.label)\n",
    "\n",
    "    location = locator.geocode(poi.Address)\n",
    "    lon, lat = location.longitude, location.latitude\n",
    "    \n",
    "    print(\"{} ({}) --> {}{}\".format(poi.Address, poi.Name, lon, lat))\n",
    "    \n",
    "    #if poi.Status == \"Closed\": \n",
    "    #    markercolor = \"lightgray\" \n",
    "    #    iconcolor = \"#ff9999\"\n",
    "    #else: \n",
    "    markercolor = \"red\"\n",
    "    iconcolor = \"white\"\n",
    "\n",
    "    # Create Marker\n",
    "    marker = folium.Marker([lat, lon], \n",
    "              tooltip=poi.Name,\n",
    "              popup = popup_template_consumers.format(poi.Name, poi.Description, poi.URL, poi.Demand),\n",
    "              icon = folium.map.Icon(color=markercolor, icon_color=iconcolor, icon=poi.Icon, prefix=\"fa\")\n",
    "             )\n",
    "    \n",
    "    marker.add_to(layers[poi.Layer])\n",
    "    \n",
    "\n",
    "    # Label layer für alle Messstellen -------------------------------------\n",
    "    #labmarker = folium.map.Marker(coord,\n",
    "    #                                  icon=DivIcon(\n",
    "    #                                      icon_size=(30,30),\n",
    "    #                                      icon_anchor=(11,24),\n",
    "    #                                      html='<div style=\"font-size: 9pt\" align=\"center\">{}</div>'.format(obs.label)))\n",
    "\n",
    "    # add marker / label to correct layer\n",
    "    #for group in groups.keys():\n",
    "    #    if obs.label in groups[group]:\n",
    "    #        marker.add_to(layer[group])\n",
    "    #        labmarker.add_to(layer[group])"
   ]
  },
  {
   "cell_type": "markdown",
   "metadata": {
    "ExecuteTime": {
     "end_time": "2020-03-22T17:15:05.219742Z",
     "start_time": "2020-03-22T17:15:05.215746Z"
    }
   },
   "source": [
    "# Producer Layer"
   ]
  },
  {
   "cell_type": "code",
   "execution_count": 10,
   "metadata": {
    "ExecuteTime": {
     "end_time": "2020-03-22T17:28:15.484592Z",
     "start_time": "2020-03-22T17:28:15.479562Z"
    }
   },
   "outputs": [],
   "source": [
    "popup_template_producers = \"\"\"\n",
    "\n",
    "<table width=250>\n",
    "    <tr>\n",
    "        <td>\n",
    "        <!-- left side of popup-->\n",
    "            <h4>{0}</h4>\n",
    "            {3}\n",
    "            <p>{1}<br>\n",
    "            <hr>\n",
    "            <p>Verfügbar: {2} Masken</p>\n",
    "\n",
    "        </td>  \n",
    "        <td>\n",
    "        <!-- right side of popup (chart preview)-->\n",
    "        </td>\n",
    "    <tr>\n",
    "</table>\n",
    "\"\"\""
   ]
  },
  {
   "cell_type": "code",
   "execution_count": 11,
   "metadata": {
    "ExecuteTime": {
     "end_time": "2020-03-22T17:28:15.747313Z",
     "start_time": "2020-03-22T17:28:15.486558Z"
    }
   },
   "outputs": [
    {
     "name": "stdout",
     "output_type": "stream",
     "text": [
      "Im Leingarten 6, 32549 Bad Oeynhausen (Max Mustermann) --> 8.798410652.2187587\n"
     ]
    }
   ],
   "source": [
    "# create markers\n",
    "for i, poi in df_producers.iterrows():\n",
    "\n",
    "    #vegalite_plot = df_head.reset_index().vgplot.scatter(x=\"Time\", y=obs.label)\n",
    "\n",
    "    location = locator.geocode(poi.Address)\n",
    "    lon, lat = location.longitude, location.latitude\n",
    "    \n",
    "    print(\"{} ({}) --> {}{}\".format(poi.Address, poi.Name, lon, lat))\n",
    "    \n",
    "    #if poi.Status == \"Closed\": \n",
    "    #    markercolor = \"lightgray\" \n",
    "    #    iconcolor = \"#ff9999\"\n",
    "    #else: \n",
    "    markercolor = \"green\"\n",
    "    iconcolor = \"white\"\n",
    "\n",
    "    # Create Marker\n",
    "    marker = folium.Marker([lat, lon], \n",
    "              tooltip=poi.Name,\n",
    "              popup = popup_template_producers.format(poi.Name, poi.Description, poi.Available, poi.Phone),\n",
    "              icon = folium.map.Icon(color=markercolor, icon_color=iconcolor, icon=poi.Icon, prefix=\"fa\")\n",
    "             )\n",
    "    \n",
    "    marker.add_to(layers[poi.Layer])\n",
    "    \n",
    "\n",
    "    # Label layer für alle Messstellen -------------------------------------\n",
    "    #labmarker = folium.map.Marker(coord,\n",
    "    #                                  icon=DivIcon(\n",
    "    #                                      icon_size=(30,30),\n",
    "    #                                      icon_anchor=(11,24),\n",
    "    #                                      html='<div style=\"font-size: 9pt\" align=\"center\">{}</div>'.format(obs.label)))\n",
    "\n",
    "    # add marker / label to correct layer\n",
    "    #for group in groups.keys():\n",
    "    #    if obs.label in groups[group]:\n",
    "    #        marker.add_to(layer[group])\n",
    "    #        labmarker.add_to(layer[group])"
   ]
  },
  {
   "cell_type": "markdown",
   "metadata": {},
   "source": [
    "# Supplier Layer"
   ]
  },
  {
   "cell_type": "code",
   "execution_count": 12,
   "metadata": {
    "ExecuteTime": {
     "end_time": "2020-03-22T17:28:15.754277Z",
     "start_time": "2020-03-22T17:28:15.749297Z"
    }
   },
   "outputs": [],
   "source": [
    "popup_template_suppliers = \"\"\"\n",
    "\n",
    "<table width=250>\n",
    "    <tr>\n",
    "        <td>\n",
    "        <!-- left side of popup-->\n",
    "        \n",
    "            <h4>{0}</h4>\n",
    "            <p>{1}<br>\n",
    "            {2}\n",
    "            \n",
    "        </td>  \n",
    "        <td>\n",
    "        <!-- right side of popup (chart preview)-->\n",
    "        </td>\n",
    "    <tr>\n",
    "</table>\n",
    "\"\"\""
   ]
  },
  {
   "cell_type": "code",
   "execution_count": 13,
   "metadata": {
    "ExecuteTime": {
     "end_time": "2020-03-22T17:28:16.029060Z",
     "start_time": "2020-03-22T17:28:15.756295Z"
    }
   },
   "outputs": [
    {
     "name": "stdout",
     "output_type": "stream",
     "text": [
      "Kanalstraße 1, 32545 Bad Oeynhausen (Max Mustermann) --> 8.798457452.2063023\n"
     ]
    }
   ],
   "source": [
    "# create markers\n",
    "for i, poi in df_suppliers.iterrows():\n",
    "\n",
    "    #vegalite_plot = df_head.reset_index().vgplot.scatter(x=\"Time\", y=obs.label)\n",
    "\n",
    "    location = locator.geocode(poi.Address)\n",
    "    lon, lat = location.longitude, location.latitude\n",
    "    \n",
    "    print(\"{} ({}) --> {}{}\".format(poi.Address, poi.Name, lon, lat))\n",
    "    \n",
    "    #if poi.Status == \"Closed\": \n",
    "    #    markercolor = \"lightgray\" \n",
    "    #    iconcolor = \"#ff9999\"\n",
    "    #else: \n",
    "    markercolor = \"blue\"\n",
    "    iconcolor = \"white\"\n",
    "\n",
    "    # Create Marker\n",
    "    marker = folium.Marker([lat, lon], \n",
    "              tooltip=poi.Name,\n",
    "              popup = popup_template_suppliers.format(poi.Name, poi.Description, poi.Status, poi.Phone),\n",
    "              icon = folium.map.Icon(color=markercolor, icon_color=iconcolor, icon=poi.Icon, prefix=\"fa\")\n",
    "             )\n",
    "    \n",
    "    marker.add_to(layers[poi.Layer])\n",
    "    \n",
    "\n",
    "    # Label layer für alle Messstellen -------------------------------------\n",
    "    #labmarker = folium.map.Marker(coord,\n",
    "    #                                  icon=DivIcon(\n",
    "    #                                      icon_size=(30,30),\n",
    "    #                                      icon_anchor=(11,24),\n",
    "    #                                      html='<div style=\"font-size: 9pt\" align=\"center\">{}</div>'.format(obs.label)))\n",
    "\n",
    "    # add marker / label to correct layer\n",
    "    #for group in groups.keys():\n",
    "    #    if obs.label in groups[group]:\n",
    "    #        marker.add_to(layer[group])\n",
    "    #        labmarker.add_to(layer[group])"
   ]
  },
  {
   "cell_type": "markdown",
   "metadata": {},
   "source": [
    " # Finalize"
   ]
  },
  {
   "cell_type": "code",
   "execution_count": 14,
   "metadata": {
    "ExecuteTime": {
     "end_time": "2020-03-22T17:28:16.061037Z",
     "start_time": "2020-03-22T17:28:16.031030Z"
    }
   },
   "outputs": [],
   "source": [
    "m.save(\"index.html\")"
   ]
  },
  {
   "cell_type": "code",
   "execution_count": 15,
   "metadata": {
    "ExecuteTime": {
     "end_time": "2020-03-22T17:28:16.100065Z",
     "start_time": "2020-03-22T17:28:16.065051Z"
    }
   },
   "outputs": [
    {
     "data": {
      "text/html": [
       "<div style=\"width:100%;\"><div style=\"position:relative;width:100%;height:0;padding-bottom:60%;\"><iframe src=\"data:text/html;charset=utf-8;base64,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\" style=\"position:absolute;width:100%;height:100%;left:0;top:0;border:none !important;\" allowfullscreen webkitallowfullscreen mozallowfullscreen></iframe></div></div>"
      ],
      "text/plain": [
       "<folium.folium.Map at 0x27897a9a128>"
      ]
     },
     "execution_count": 15,
     "metadata": {},
     "output_type": "execute_result"
    }
   ],
   "source": [
    "m"
   ]
  },
  {
   "cell_type": "code",
   "execution_count": null,
   "metadata": {},
   "outputs": [],
   "source": []
  }
 ],
 "metadata": {
  "hide_input": false,
  "kernelspec": {
   "display_name": "py36_lineg",
   "language": "python",
   "name": "py36_lineg"
  },
  "language_info": {
   "codemirror_mode": {
    "name": "ipython",
    "version": 3
   },
   "file_extension": ".py",
   "mimetype": "text/x-python",
   "name": "python",
   "nbconvert_exporter": "python",
   "pygments_lexer": "ipython3",
   "version": "3.6.8"
  },
  "toc": {
   "nav_menu": {},
   "number_sections": true,
   "sideBar": true,
   "skip_h1_title": true,
   "toc_cell": false,
   "toc_position": {},
   "toc_section_display": "block",
   "toc_window_display": true
  },
  "varInspector": {
   "cols": {
    "lenName": 16,
    "lenType": 16,
    "lenVar": 40
   },
   "kernels_config": {
    "python": {
     "delete_cmd_postfix": "",
     "delete_cmd_prefix": "del ",
     "library": "var_list.py",
     "varRefreshCmd": "print(var_dic_list())"
    },
    "r": {
     "delete_cmd_postfix": ") ",
     "delete_cmd_prefix": "rm(",
     "library": "var_list.r",
     "varRefreshCmd": "cat(var_dic_list()) "
    }
   },
   "types_to_exclude": [
    "module",
    "function",
    "builtin_function_or_method",
    "instance",
    "_Feature"
   ],
   "window_display": false
  }
 },
 "nbformat": 4,
 "nbformat_minor": 2
}
