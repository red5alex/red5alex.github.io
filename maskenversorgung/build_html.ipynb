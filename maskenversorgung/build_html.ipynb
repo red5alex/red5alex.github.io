{
 "cells": [
  {
   "cell_type": "code",
   "execution_count": 1,
   "metadata": {
    "ExecuteTime": {
     "end_time": "2020-03-22T17:17:49.466566Z",
     "start_time": "2020-03-22T17:17:47.312739Z"
    }
   },
   "outputs": [],
   "source": [
    "import folium\n",
    "import pandas as pd\n",
    "#import pdvega\n",
    "\n",
    "import geopandas as gpd\n",
    "from folium.plugins import MeasureControl, Fullscreen # for ruler in maps\n",
    "from folium.features import DivIcon\n",
    "import numpy as np\n",
    "import geopy\n",
    "\n",
    "%matplotlib inline\n",
    "locator = geopy.Nominatim(user_agent=\"myGeocoder\")"
   ]
  },
  {
   "cell_type": "markdown",
   "metadata": {},
   "source": [
    "# Load Data"
   ]
  },
  {
   "cell_type": "code",
   "execution_count": 2,
   "metadata": {
    "ExecuteTime": {
     "end_time": "2020-03-22T17:17:49.540518Z",
     "start_time": "2020-03-22T17:17:49.469519Z"
    }
   },
   "outputs": [
    {
     "data": {
      "text/html": [
       "<div>\n",
       "<style scoped>\n",
       "    .dataframe tbody tr th:only-of-type {\n",
       "        vertical-align: middle;\n",
       "    }\n",
       "\n",
       "    .dataframe tbody tr th {\n",
       "        vertical-align: top;\n",
       "    }\n",
       "\n",
       "    .dataframe thead th {\n",
       "        text-align: right;\n",
       "    }\n",
       "</style>\n",
       "<table border=\"1\" class=\"dataframe\">\n",
       "  <thead>\n",
       "    <tr style=\"text-align: right;\">\n",
       "      <th></th>\n",
       "      <th>Name</th>\n",
       "      <th>Layer</th>\n",
       "      <th>Description</th>\n",
       "      <th>Address</th>\n",
       "      <th>Phone</th>\n",
       "      <th>email</th>\n",
       "      <th>LON</th>\n",
       "      <th>LAT</th>\n",
       "      <th>Available</th>\n",
       "      <th>Total_Produce</th>\n",
       "      <th>Status</th>\n",
       "      <th>Icon</th>\n",
       "      <th>Color</th>\n",
       "    </tr>\n",
       "  </thead>\n",
       "  <tbody>\n",
       "    <tr>\n",
       "      <th>0</th>\n",
       "      <td>Max Mustermann</td>\n",
       "      <td>Masken Verfügbar</td>\n",
       "      <td>Max Mustermann</td>\n",
       "      <td>Im Leingarten 6, 32549 Bad Oeynhausen</td>\n",
       "      <td>05731 - 123456789</td>\n",
       "      <td>ich@Beispiel.de</td>\n",
       "      <td>NaN</td>\n",
       "      <td>NaN</td>\n",
       "      <td>2</td>\n",
       "      <td>10</td>\n",
       "      <td>working</td>\n",
       "      <td>fa-user</td>\n",
       "      <td>green</td>\n",
       "    </tr>\n",
       "  </tbody>\n",
       "</table>\n",
       "</div>"
      ],
      "text/plain": [
       "             Name             Layer     Description  \\\n",
       "0  Max Mustermann  Masken Verfügbar  Max Mustermann   \n",
       "\n",
       "                                 Address              Phone            email  \\\n",
       "0  Im Leingarten 6, 32549 Bad Oeynhausen  05731 - 123456789  ich@Beispiel.de   \n",
       "\n",
       "   LON  LAT  Available  Total_Produce   Status     Icon  Color  \n",
       "0  NaN  NaN          2             10  working  fa-user  green  "
      ]
     },
     "execution_count": 2,
     "metadata": {},
     "output_type": "execute_result"
    }
   ],
   "source": [
    "df_producers = pd.read_excel(\"./data/producers.xlsx\")\n",
    "df_producers"
   ]
  },
  {
   "cell_type": "code",
   "execution_count": 3,
   "metadata": {
    "ExecuteTime": {
     "end_time": "2020-03-22T17:17:49.569500Z",
     "start_time": "2020-03-22T17:17:49.543533Z"
    }
   },
   "outputs": [
    {
     "data": {
      "text/html": [
       "<div>\n",
       "<style scoped>\n",
       "    .dataframe tbody tr th:only-of-type {\n",
       "        vertical-align: middle;\n",
       "    }\n",
       "\n",
       "    .dataframe tbody tr th {\n",
       "        vertical-align: top;\n",
       "    }\n",
       "\n",
       "    .dataframe thead th {\n",
       "        text-align: right;\n",
       "    }\n",
       "</style>\n",
       "<table border=\"1\" class=\"dataframe\">\n",
       "  <thead>\n",
       "    <tr style=\"text-align: right;\">\n",
       "      <th></th>\n",
       "      <th>Name</th>\n",
       "      <th>Layer</th>\n",
       "      <th>Description</th>\n",
       "      <th>Address</th>\n",
       "      <th>Phone</th>\n",
       "      <th>email</th>\n",
       "      <th>LON</th>\n",
       "      <th>LAT</th>\n",
       "      <th>Status</th>\n",
       "      <th>Demand</th>\n",
       "      <th>URL</th>\n",
       "      <th>Icon</th>\n",
       "      <th>Color</th>\n",
       "    </tr>\n",
       "  </thead>\n",
       "  <tbody>\n",
       "    <tr>\n",
       "      <th>0</th>\n",
       "      <td>Beispielklinik</td>\n",
       "      <td>Bedarf</td>\n",
       "      <td>Krankenhaus</td>\n",
       "      <td>Georgstraße 11, 32545 Bad Oeynhausen</td>\n",
       "      <td>05731 - xxxx</td>\n",
       "      <td>info@hdzxxx.de</td>\n",
       "      <td>NaN</td>\n",
       "      <td>NaN</td>\n",
       "      <td>Bedarf an Masken</td>\n",
       "      <td>100</td>\n",
       "      <td>www.beispielkrankenhaus.de</td>\n",
       "      <td>fa-ambulance</td>\n",
       "      <td>red</td>\n",
       "    </tr>\n",
       "    <tr>\n",
       "      <th>1</th>\n",
       "      <td>Beispielpraxis</td>\n",
       "      <td>Bedarf</td>\n",
       "      <td>Arztpraxis</td>\n",
       "      <td>Eidinghausener Str. 123, 32549 Bad Oeynhausen</td>\n",
       "      <td>05731 - xxxx</td>\n",
       "      <td>info@beispiel.de</td>\n",
       "      <td>NaN</td>\n",
       "      <td>NaN</td>\n",
       "      <td>Bedarf an Masken</td>\n",
       "      <td>10</td>\n",
       "      <td>www.beispielpraxis.de</td>\n",
       "      <td>fa-stethoscope</td>\n",
       "      <td>red</td>\n",
       "    </tr>\n",
       "  </tbody>\n",
       "</table>\n",
       "</div>"
      ],
      "text/plain": [
       "             Name   Layer  Description  \\\n",
       "0  Beispielklinik  Bedarf  Krankenhaus   \n",
       "1  Beispielpraxis  Bedarf   Arztpraxis   \n",
       "\n",
       "                                         Address         Phone  \\\n",
       "0           Georgstraße 11, 32545 Bad Oeynhausen  05731 - xxxx   \n",
       "1  Eidinghausener Str. 123, 32549 Bad Oeynhausen  05731 - xxxx   \n",
       "\n",
       "              email  LON  LAT            Status  Demand  \\\n",
       "0    info@hdzxxx.de  NaN  NaN  Bedarf an Masken     100   \n",
       "1  info@beispiel.de  NaN  NaN  Bedarf an Masken      10   \n",
       "\n",
       "                          URL            Icon Color  \n",
       "0  www.beispielkrankenhaus.de    fa-ambulance   red  \n",
       "1       www.beispielpraxis.de  fa-stethoscope   red  "
      ]
     },
     "execution_count": 3,
     "metadata": {},
     "output_type": "execute_result"
    }
   ],
   "source": [
    "df_consumers = pd.read_excel(\"./data/consumers.xlsx\")\n",
    "df_consumers"
   ]
  },
  {
   "cell_type": "code",
   "execution_count": 4,
   "metadata": {
    "ExecuteTime": {
     "end_time": "2020-03-22T17:17:49.599500Z",
     "start_time": "2020-03-22T17:17:49.572506Z"
    }
   },
   "outputs": [
    {
     "data": {
      "text/html": [
       "<div>\n",
       "<style scoped>\n",
       "    .dataframe tbody tr th:only-of-type {\n",
       "        vertical-align: middle;\n",
       "    }\n",
       "\n",
       "    .dataframe tbody tr th {\n",
       "        vertical-align: top;\n",
       "    }\n",
       "\n",
       "    .dataframe thead th {\n",
       "        text-align: right;\n",
       "    }\n",
       "</style>\n",
       "<table border=\"1\" class=\"dataframe\">\n",
       "  <thead>\n",
       "    <tr style=\"text-align: right;\">\n",
       "      <th></th>\n",
       "      <th>Name</th>\n",
       "      <th>Layer</th>\n",
       "      <th>Description</th>\n",
       "      <th>Address</th>\n",
       "      <th>Phone</th>\n",
       "      <th>email</th>\n",
       "      <th>LON</th>\n",
       "      <th>LAT</th>\n",
       "      <th>Status</th>\n",
       "      <th>URL</th>\n",
       "      <th>Icon</th>\n",
       "      <th>Color</th>\n",
       "    </tr>\n",
       "  </thead>\n",
       "  <tbody>\n",
       "    <tr>\n",
       "      <th>0</th>\n",
       "      <td>Max Mustermann</td>\n",
       "      <td>Material</td>\n",
       "      <td>Material Verfügbar</td>\n",
       "      <td>Kanalstraße 1, 32545 Bad Oeynhausen</td>\n",
       "      <td>05731-xxxx</td>\n",
       "      <td>max@mustermann.de</td>\n",
       "      <td>NaN</td>\n",
       "      <td>NaN</td>\n",
       "      <td>Habe Baumwolle</td>\n",
       "      <td>NaN</td>\n",
       "      <td>fa-briefcase</td>\n",
       "      <td>blue</td>\n",
       "    </tr>\n",
       "  </tbody>\n",
       "</table>\n",
       "</div>"
      ],
      "text/plain": [
       "             Name     Layer         Description  \\\n",
       "0  Max Mustermann  Material  Material Verfügbar   \n",
       "\n",
       "                               Address       Phone              email  LON  \\\n",
       "0  Kanalstraße 1, 32545 Bad Oeynhausen  05731-xxxx  max@mustermann.de  NaN   \n",
       "\n",
       "   LAT          Status  URL          Icon Color  \n",
       "0  NaN  Habe Baumwolle  NaN  fa-briefcase  blue  "
      ]
     },
     "execution_count": 4,
     "metadata": {},
     "output_type": "execute_result"
    }
   ],
   "source": [
    "df_suppliers = pd.read_excel(\"./data/suppliers.xlsx\")\n",
    "df_suppliers"
   ]
  },
  {
   "cell_type": "markdown",
   "metadata": {
    "ExecuteTime": {
     "end_time": "2020-03-22T17:14:10.250169Z",
     "start_time": "2020-03-22T17:14:10.247168Z"
    }
   },
   "source": [
    "# Create Basemap\n"
   ]
  },
  {
   "cell_type": "code",
   "execution_count": 5,
   "metadata": {
    "ExecuteTime": {
     "end_time": "2020-03-22T17:17:49.637529Z",
     "start_time": "2020-03-22T17:17:49.601497Z"
    }
   },
   "outputs": [
    {
     "data": {
      "text/plain": [
       "<folium.raster_layers.TileLayer at 0x141a17ab6a0>"
      ]
     },
     "execution_count": 5,
     "metadata": {},
     "output_type": "execute_result"
    }
   ],
   "source": [
    "start_coord = [52.2035, 8.80445]\n",
    "\n",
    "m = folium.Map(\n",
    "    location=start_coord,\n",
    "    zoom_start=13,\n",
    "    tiles='openstreetmap',\n",
    "    control_scale=True,\n",
    ")\n",
    "\n",
    "# Tile layers\n",
    "folium.TileLayer('Stamen Terrain', attr='terrain').add_to(m)\n",
    "folium.TileLayer('openstreetmap', attr='osm').add_to(m)\n",
    "folium.TileLayer('cartodbpositron', attr='positron').add_to(m)"
   ]
  },
  {
   "cell_type": "code",
   "execution_count": 6,
   "metadata": {
    "ExecuteTime": {
     "end_time": "2020-03-22T17:17:49.651501Z",
     "start_time": "2020-03-22T17:17:49.640500Z"
    }
   },
   "outputs": [
    {
     "name": "stdout",
     "output_type": "stream",
     "text": [
      "Bedarf\n",
      "Masken Verfügbar\n",
      "Material\n"
     ]
    }
   ],
   "source": [
    "layers = {}\n",
    "\n",
    "for l in df_consumers.Layer.unique():\n",
    "    layers[l] = folium.FeatureGroup(name=l)\n",
    "    layers[l].add_to(m)\n",
    "    print(l)\n",
    "    \n",
    "for l in df_producers.Layer.unique():\n",
    "    layers[l] = folium.FeatureGroup(name=l)\n",
    "    layers[l].add_to(m)\n",
    "    print(l)\n",
    "    \n",
    "for l in df_suppliers.Layer.unique():\n",
    "    layers[l] = folium.FeatureGroup(name=l)\n",
    "    layers[l].add_to(m)\n",
    "    print(l)\n",
    "\n"
   ]
  },
  {
   "cell_type": "code",
   "execution_count": 7,
   "metadata": {
    "ExecuteTime": {
     "end_time": "2020-03-22T17:17:49.671501Z",
     "start_time": "2020-03-22T17:17:49.655501Z"
    }
   },
   "outputs": [
    {
     "data": {
      "text/plain": [
       "<folium.plugins.mouse_position.MousePosition at 0x141a174bac8>"
      ]
     },
     "execution_count": 7,
     "metadata": {},
     "output_type": "execute_result"
    }
   ],
   "source": [
    "# Layer and Measurement Controls\n",
    "folium.LayerControl(collapsed=False).add_to(m)  # now you can turn off and on layers\n",
    "# folium.plugins.MeasureControl().add_to(m)\n",
    "folium.plugins.Fullscreen().add_to(m)\n",
    "folium.plugins.LocateControl().add_to(m)  # geolocation button (GPS) ... probably only available in higher versions\n",
    "folium.plugins.MiniMap(tile_layer='Stamen Terrain', zoom_level_offset=-5).add_to(m)\n",
    "folium.plugins.MousePosition(position=\"bottomleft\").add_to(m)\n"
   ]
  },
  {
   "cell_type": "markdown",
   "metadata": {},
   "source": [
    "# Consumer Layer"
   ]
  },
  {
   "cell_type": "code",
   "execution_count": 8,
   "metadata": {
    "ExecuteTime": {
     "end_time": "2020-03-22T17:17:49.682504Z",
     "start_time": "2020-03-22T17:17:49.676518Z"
    }
   },
   "outputs": [],
   "source": [
    "popup_template_consumers = \"\"\"\n",
    "\n",
    "<table width=250>\n",
    "    <tr>\n",
    "        <td>\n",
    "        <!-- left side of popup-->\n",
    "            <h4>{0}</h4>\n",
    "            <p>{1}<br>\n",
    "            <a href=\"{2}\">{2}</a></p>\n",
    "            <hr>\n",
    "            <p>Bedarf: {3} Masken</p>\n",
    "\n",
    "        </td>  \n",
    "        <td>\n",
    "        <!-- right side of popup (chart preview)-->\n",
    "        </td>\n",
    "    <tr>\n",
    "</table>\n",
    "\"\"\""
   ]
  },
  {
   "cell_type": "code",
   "execution_count": 9,
   "metadata": {
    "ExecuteTime": {
     "end_time": "2020-03-22T17:17:51.163100Z",
     "start_time": "2020-03-22T17:17:49.685517Z"
    }
   },
   "outputs": [
    {
     "name": "stdout",
     "output_type": "stream",
     "text": [
      "Georgstraße 11, 32545 Bad Oeynhausen (Beispielklinik) --> 8.794459652.1924794\n",
      "Eidinghausener Str. 123, 32549 Bad Oeynhausen (Beispielpraxis) --> 8.798878252.2225905\n"
     ]
    }
   ],
   "source": [
    "# create markers\n",
    "for i, poi in df_consumers.iterrows():\n",
    "\n",
    "    #vegalite_plot = df_head.reset_index().vgplot.scatter(x=\"Time\", y=obs.label)\n",
    "\n",
    "    location = locator.geocode(poi.Address)\n",
    "    lon, lat = location.longitude, location.latitude\n",
    "    \n",
    "    print(\"{} ({}) --> {}{}\".format(poi.Address, poi.Name, lon, lat))\n",
    "    \n",
    "    #if poi.Status == \"Closed\": \n",
    "    #    markercolor = \"lightgray\" \n",
    "    #    iconcolor = \"#ff9999\"\n",
    "    #else: \n",
    "    markercolor = \"red\"\n",
    "    iconcolor = \"white\"\n",
    "\n",
    "    # Create Marker\n",
    "    marker = folium.Marker([lat, lon], \n",
    "              tooltip=poi.Name,\n",
    "              popup = popup_template_consumers.format(poi.Name, poi.Description, poi.URL, poi.Demand),\n",
    "              icon = folium.map.Icon(color=markercolor, icon_color=iconcolor, icon=poi.Icon, prefix=\"fa\")\n",
    "             )\n",
    "    \n",
    "    marker.add_to(layers[poi.Layer])\n",
    "    \n",
    "\n",
    "    # Label layer für alle Messstellen -------------------------------------\n",
    "    #labmarker = folium.map.Marker(coord,\n",
    "    #                                  icon=DivIcon(\n",
    "    #                                      icon_size=(30,30),\n",
    "    #                                      icon_anchor=(11,24),\n",
    "    #                                      html='<div style=\"font-size: 9pt\" align=\"center\">{}</div>'.format(obs.label)))\n",
    "\n",
    "    # add marker / label to correct layer\n",
    "    #for group in groups.keys():\n",
    "    #    if obs.label in groups[group]:\n",
    "    #        marker.add_to(layer[group])\n",
    "    #        labmarker.add_to(layer[group])"
   ]
  },
  {
   "cell_type": "markdown",
   "metadata": {
    "ExecuteTime": {
     "end_time": "2020-03-22T17:15:05.219742Z",
     "start_time": "2020-03-22T17:15:05.215746Z"
    }
   },
   "source": [
    "# Producer Layer"
   ]
  },
  {
   "cell_type": "code",
   "execution_count": 10,
   "metadata": {
    "ExecuteTime": {
     "end_time": "2020-03-22T17:17:51.169101Z",
     "start_time": "2020-03-22T17:17:51.165081Z"
    }
   },
   "outputs": [],
   "source": [
    "popup_template_producers = \"\"\"\n",
    "\n",
    "<table width=250>\n",
    "    <tr>\n",
    "        <td>\n",
    "        <!-- left side of popup-->\n",
    "            <h4>{0}</h4>\n",
    "            <p>{1}<br>\n",
    "            <a href=\"{2}\">{2}</a></p>\n",
    "            <hr>\n",
    "            <p>Verfügbar: {3} Masken</p>\n",
    "\n",
    "        </td>  \n",
    "        <td>\n",
    "        <!-- right side of popup (chart preview)-->\n",
    "        </td>\n",
    "    <tr>\n",
    "</table>\n",
    "\"\"\""
   ]
  },
  {
   "cell_type": "code",
   "execution_count": 11,
   "metadata": {
    "ExecuteTime": {
     "end_time": "2020-03-22T17:17:51.444746Z",
     "start_time": "2020-03-22T17:17:51.171075Z"
    }
   },
   "outputs": [
    {
     "name": "stdout",
     "output_type": "stream",
     "text": [
      "Im Leingarten 6, 32549 Bad Oeynhausen (Max Mustermann) --> 8.798410652.2187587\n"
     ]
    }
   ],
   "source": [
    "# create markers\n",
    "for i, poi in df_producers.iterrows():\n",
    "\n",
    "    #vegalite_plot = df_head.reset_index().vgplot.scatter(x=\"Time\", y=obs.label)\n",
    "\n",
    "    location = locator.geocode(poi.Address)\n",
    "    lon, lat = location.longitude, location.latitude\n",
    "    \n",
    "    print(\"{} ({}) --> {}{}\".format(poi.Address, poi.Name, lon, lat))\n",
    "    \n",
    "    #if poi.Status == \"Closed\": \n",
    "    #    markercolor = \"lightgray\" \n",
    "    #    iconcolor = \"#ff9999\"\n",
    "    #else: \n",
    "    markercolor = \"green\"\n",
    "    iconcolor = \"white\"\n",
    "\n",
    "    # Create Marker\n",
    "    marker = folium.Marker([lat, lon], \n",
    "              tooltip=poi.Name,\n",
    "              popup = popup_template_producers.format(poi.Name, poi.Description, poi.Available, poi.Phone),\n",
    "              icon = folium.map.Icon(color=markercolor, icon_color=iconcolor, icon=poi.Icon, prefix=\"fa\")\n",
    "             )\n",
    "    \n",
    "    marker.add_to(layers[poi.Layer])\n",
    "    \n",
    "\n",
    "    # Label layer für alle Messstellen -------------------------------------\n",
    "    #labmarker = folium.map.Marker(coord,\n",
    "    #                                  icon=DivIcon(\n",
    "    #                                      icon_size=(30,30),\n",
    "    #                                      icon_anchor=(11,24),\n",
    "    #                                      html='<div style=\"font-size: 9pt\" align=\"center\">{}</div>'.format(obs.label)))\n",
    "\n",
    "    # add marker / label to correct layer\n",
    "    #for group in groups.keys():\n",
    "    #    if obs.label in groups[group]:\n",
    "    #        marker.add_to(layer[group])\n",
    "    #        labmarker.add_to(layer[group])"
   ]
  },
  {
   "cell_type": "markdown",
   "metadata": {},
   "source": [
    "# Supplier Layer"
   ]
  },
  {
   "cell_type": "code",
   "execution_count": 12,
   "metadata": {
    "ExecuteTime": {
     "end_time": "2020-03-22T17:17:51.449705Z",
     "start_time": "2020-03-22T17:17:51.446703Z"
    }
   },
   "outputs": [],
   "source": [
    "popup_template_suppliers = \"\"\"\n",
    "\n",
    "<table width=250>\n",
    "    <tr>\n",
    "        <td>\n",
    "        <!-- left side of popup-->\n",
    "        \n",
    "            <h4>{0}</h4>\n",
    "            <p>{1}<br>\n",
    "            {2}\n",
    "            \n",
    "        </td>  \n",
    "        <td>\n",
    "        <!-- right side of popup (chart preview)-->\n",
    "        </td>\n",
    "    <tr>\n",
    "</table>\n",
    "\"\"\""
   ]
  },
  {
   "cell_type": "code",
   "execution_count": 13,
   "metadata": {
    "ExecuteTime": {
     "end_time": "2020-03-22T17:17:51.727726Z",
     "start_time": "2020-03-22T17:17:51.451704Z"
    }
   },
   "outputs": [
    {
     "name": "stdout",
     "output_type": "stream",
     "text": [
      "Kanalstraße 1, 32545 Bad Oeynhausen (Max Mustermann) --> 8.798457452.2063023\n"
     ]
    }
   ],
   "source": [
    "# create markers\n",
    "for i, poi in df_suppliers.iterrows():\n",
    "\n",
    "    #vegalite_plot = df_head.reset_index().vgplot.scatter(x=\"Time\", y=obs.label)\n",
    "\n",
    "    location = locator.geocode(poi.Address)\n",
    "    lon, lat = location.longitude, location.latitude\n",
    "    \n",
    "    print(\"{} ({}) --> {}{}\".format(poi.Address, poi.Name, lon, lat))\n",
    "    \n",
    "    #if poi.Status == \"Closed\": \n",
    "    #    markercolor = \"lightgray\" \n",
    "    #    iconcolor = \"#ff9999\"\n",
    "    #else: \n",
    "    markercolor = \"blue\"\n",
    "    iconcolor = \"white\"\n",
    "\n",
    "    # Create Marker\n",
    "    marker = folium.Marker([lat, lon], \n",
    "              tooltip=poi.Name,\n",
    "              popup = popup_template_suppliers.format(poi.Name, poi.Description, poi.Status, poi.Phone),\n",
    "              icon = folium.map.Icon(color=markercolor, icon_color=iconcolor, icon=poi.Icon, prefix=\"fa\")\n",
    "             )\n",
    "    \n",
    "    marker.add_to(layers[poi.Layer])\n",
    "    \n",
    "\n",
    "    # Label layer für alle Messstellen -------------------------------------\n",
    "    #labmarker = folium.map.Marker(coord,\n",
    "    #                                  icon=DivIcon(\n",
    "    #                                      icon_size=(30,30),\n",
    "    #                                      icon_anchor=(11,24),\n",
    "    #                                      html='<div style=\"font-size: 9pt\" align=\"center\">{}</div>'.format(obs.label)))\n",
    "\n",
    "    # add marker / label to correct layer\n",
    "    #for group in groups.keys():\n",
    "    #    if obs.label in groups[group]:\n",
    "    #        marker.add_to(layer[group])\n",
    "    #        labmarker.add_to(layer[group])"
   ]
  },
  {
   "cell_type": "markdown",
   "metadata": {},
   "source": [
    " # Finalize"
   ]
  },
  {
   "cell_type": "code",
   "execution_count": 14,
   "metadata": {
    "ExecuteTime": {
     "end_time": "2020-03-22T17:17:51.764719Z",
     "start_time": "2020-03-22T17:17:51.729717Z"
    }
   },
   "outputs": [],
   "source": [
    "m.save(\"index.html\")"
   ]
  },
  {
   "cell_type": "code",
   "execution_count": 15,
   "metadata": {
    "ExecuteTime": {
     "end_time": "2020-03-22T17:17:51.796743Z",
     "start_time": "2020-03-22T17:17:51.765705Z"
    }
   },
   "outputs": [
    {
     "data": {
      "text/html": [
       "<div style=\"width:100%;\"><div style=\"position:relative;width:100%;height:0;padding-bottom:60%;\"><iframe src=\"data:text/html;charset=utf-8;base64,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\" style=\"position:absolute;width:100%;height:100%;left:0;top:0;border:none !important;\" allowfullscreen webkitallowfullscreen mozallowfullscreen></iframe></div></div>"
      ],
      "text/plain": [
       "<folium.folium.Map at 0x141a17a0f60>"
      ]
     },
     "execution_count": 15,
     "metadata": {},
     "output_type": "execute_result"
    }
   ],
   "source": [
    "m"
   ]
  },
  {
   "cell_type": "code",
   "execution_count": null,
   "metadata": {},
   "outputs": [],
   "source": []
  }
 ],
 "metadata": {
  "hide_input": false,
  "kernelspec": {
   "display_name": "py36_lineg",
   "language": "python",
   "name": "py36_lineg"
  },
  "language_info": {
   "codemirror_mode": {
    "name": "ipython",
    "version": 3
   },
   "file_extension": ".py",
   "mimetype": "text/x-python",
   "name": "python",
   "nbconvert_exporter": "python",
   "pygments_lexer": "ipython3",
   "version": "3.6.8"
  },
  "toc": {
   "nav_menu": {},
   "number_sections": true,
   "sideBar": true,
   "skip_h1_title": true,
   "toc_cell": false,
   "toc_position": {},
   "toc_section_display": "block",
   "toc_window_display": true
  },
  "varInspector": {
   "cols": {
    "lenName": 16,
    "lenType": 16,
    "lenVar": 40
   },
   "kernels_config": {
    "python": {
     "delete_cmd_postfix": "",
     "delete_cmd_prefix": "del ",
     "library": "var_list.py",
     "varRefreshCmd": "print(var_dic_list())"
    },
    "r": {
     "delete_cmd_postfix": ") ",
     "delete_cmd_prefix": "rm(",
     "library": "var_list.r",
     "varRefreshCmd": "cat(var_dic_list()) "
    }
   },
   "types_to_exclude": [
    "module",
    "function",
    "builtin_function_or_method",
    "instance",
    "_Feature"
   ],
   "window_display": false
  }
 },
 "nbformat": 4,
 "nbformat_minor": 2
}
